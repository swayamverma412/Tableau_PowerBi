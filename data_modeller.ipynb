{
 "cells": [
  {
   "cell_type": "code",
   "execution_count": null,
   "metadata": {},
   "outputs": [],
   "source": [
    "import pandas as pd\n",
    "import os\n",
    "import graphviz"
   ]
  },
  {
   "cell_type": "code",
   "execution_count": null,
   "metadata": {},
   "outputs": [],
   "source": [
    "# Define the directory containing data\n",
    "directory = 'bike store data'"
   ]
  },
  {
   "cell_type": "code",
   "execution_count": null,
   "metadata": {},
   "outputs": [],
   "source": [
    "# Get a list of all csv files in the directory\n",
    "csv_files = {file for file in os.listdir(directory) if file.endswith('.csv')}"
   ]
  },
  {
   "cell_type": "code",
   "execution_count": null,
   "metadata": {},
   "outputs": [],
   "source": [
    "# Function to find the potential primary keys for a dataframe\n",
    "def find_potential_primary_keys(df):\n",
    "    potential_primary_keys = []\n",
    "    for column in df.columns:\n",
    "        if df[column].nunique() == len(df):\n",
    "            potential_primary_keys.append(column)\n",
    "    return potential_primary_keys"
   ]
  },
  {
   "cell_type": "code",
   "execution_count": null,
   "metadata": {},
   "outputs": [],
   "source": [
    "# Dictionary to store the DataFrames\n",
    "dataframes = {}\n",
    "\n",
    "# Dictionary to store the potential primary keys\n",
    "primary_keys = {}"
   ]
  },
  {
   "cell_type": "code",
   "execution_count": null,
   "metadata": {},
   "outputs": [],
   "source": [
    "# Read and process each CSV files\n",
    "for file in csv_files:\n",
    "    file_path = os.path.join(directory, file)\n",
    "    df = pd.read_csv(file_path)\n",
    "    dataframes[file] = df\n",
    "    primary_keys[file] = find_potential_primary_keys(df)\n",
    "\n",
    "    # Print the potential primary keys for the current file\n",
    "    print(f\"File: {file}\")\n",
    "    print(f\"Potential Primary keys: {primary_keys[file]}\")\n",
    "    print(\"\\n\")"
   ]
  },
  {
   "cell_type": "code",
   "execution_count": null,
   "metadata": {},
   "outputs": [],
   "source": [
    "# Dictionary to store foreign keys\n",
    "foreign_keys = {}"
   ]
  },
  {
   "cell_type": "code",
   "execution_count": null,
   "metadata": {},
   "outputs": [],
   "source": [
    "# Check if primary keys are foreign keys in other tables\n",
    "for file, keys in primary_keys.items():\n",
    "    for key in keys:\n",
    "        for other_file, other_df in dataframes.items():\n",
    "            if file != other_file and key in other_df.columns:\n",
    "                foreign_keys[key] = []\n",
    "                foreign_keys[key].append(other_file)"
   ]
  },
  {
   "cell_type": "code",
   "execution_count": null,
   "metadata": {},
   "outputs": [],
   "source": [
    "# Dictionary to store table types\n",
    "table_types = {}"
   ]
  },
  {
   "cell_type": "code",
   "execution_count": null,
   "metadata": {},
   "outputs": [],
   "source": [
    "# Determine table types\n",
    "for file in csv_files:\n",
    "    is_fact = False\n",
    "    for key in primary_keys[file]:\n",
    "        if key in foreign_keys:\n",
    "            is_fact = True\n",
    "            break\n",
    "    if is_fact:\n",
    "        table_types[file] = 'Fact'\n",
    "    else:\n",
    "        table_types[file] = 'Dimension'"
   ]
  },
  {
   "cell_type": "code",
   "execution_count": null,
   "metadata": {},
   "outputs": [],
   "source": [
    "# Print table types\n",
    "for file, table_type in table_types.items():\n",
    "    print(f\"Table: {file}\")\n",
    "    print(f\"Type: {table_type}\")\n",
    "    print(\"\\n\")"
   ]
  },
  {
   "cell_type": "code",
   "execution_count": null,
   "metadata": {},
   "outputs": [],
   "source": [
    "# Create a graph to represent relationships using Graphviz\n",
    "dot = graphviz.Digraph(comment = 'ER Diagram')"
   ]
  },
  {
   "cell_type": "code",
   "execution_count": null,
   "metadata": {},
   "outputs": [],
   "source": [
    "# Add nodes for each table\n",
    "for file in csv_files:\n",
    "    label = f\"{file}\\n({table_types[file]})\"\n",
    "    dot.node(file, label = label, shape='box', style = 'filled', color = 'lightgray')"
   ]
  },
  {
   "cell_type": "code",
   "execution_count": null,
   "metadata": {},
   "outputs": [],
   "source": [
    "# Add edges for primary key to foreign key relationships\n",
    "for key, tables in foreign_keys.items():\n",
    "    for table in tables:\n",
    "        for file in primary_keys:\n",
    "            if key in primary_keys[file]:\n",
    "                dot.edge(file, table, label = key)"
   ]
  },
  {
   "cell_type": "code",
   "execution_count": null,
   "metadata": {},
   "outputs": [],
   "source": [
    "output_path = 'er_diagram'\n",
    "dot.render(output_path, view=True)\n"
   ]
  },
  {
   "cell_type": "code",
   "execution_count": null,
   "metadata": {},
   "outputs": [],
   "source": []
  }
 ],
 "metadata": {
  "kernelspec": {
   "display_name": ".venv",
   "language": "python",
   "name": "python3"
  },
  "language_info": {
   "codemirror_mode": {
    "name": "ipython",
    "version": 3
   },
   "file_extension": ".py",
   "mimetype": "text/x-python",
   "name": "python",
   "nbconvert_exporter": "python",
   "pygments_lexer": "ipython3",
   "version": "3.11.3"
  }
 },
 "nbformat": 4,
 "nbformat_minor": 2
}
