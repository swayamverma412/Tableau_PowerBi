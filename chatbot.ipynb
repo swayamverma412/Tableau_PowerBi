{
 "cells": [
  {
   "cell_type": "code",
   "execution_count": 2,
   "metadata": {},
   "outputs": [
    {
     "name": "stderr",
     "output_type": "stream",
     "text": [
      "e:\\Programming\\Tableau to PowerBI\\.venv\\Lib\\site-packages\\tqdm\\auto.py:21: TqdmWarning: IProgress not found. Please update jupyter and ipywidgets. See https://ipywidgets.readthedocs.io/en/stable/user_install.html\n",
      "  from .autonotebook import tqdm as notebook_tqdm\n"
     ]
    }
   ],
   "source": [
    "import pathlib\n",
    "import textwrap\n",
    "\n",
    "import google.generativeai as genai\n",
    "\n",
    "from IPython.display import display\n",
    "from IPython.display import Markdown\n",
    "\n",
    "def to_markdown(text):\n",
    "    text = text.replace('.', ' *')\n",
    "    return Markdown(textwrap.indent(text,'> ', predicate = lambda _: True))\n",
    "\n"
   ]
  },
  {
   "cell_type": "code",
   "execution_count": 3,
   "metadata": {},
   "outputs": [],
   "source": [
    "import os\n",
    "from dotenv import load_dotenv, dotenv_values\n",
    "load_dotenv()\n",
    "genai.configure(api_key=os.getenv(\"GEMINI_API_KEY\"))\n"
   ]
  },
  {
   "cell_type": "code",
   "execution_count": 4,
   "metadata": {},
   "outputs": [
    {
     "name": "stdout",
     "output_type": "stream",
     "text": [
      "models/gemini-1.0-pro\n",
      "models/gemini-1.0-pro-001\n",
      "models/gemini-1.0-pro-latest\n",
      "models/gemini-1.0-pro-vision-latest\n",
      "models/gemini-1.5-flash\n",
      "models/gemini-1.5-flash-001\n",
      "models/gemini-1.5-flash-latest\n",
      "models/gemini-1.5-pro\n",
      "models/gemini-1.5-pro-001\n",
      "models/gemini-1.5-pro-latest\n",
      "models/gemini-pro\n",
      "models/gemini-pro-vision\n"
     ]
    }
   ],
   "source": [
    "for m in genai.list_models():\n",
    "    if 'generateContent' in m.supported_generation_methods:\n",
    "        print(m.name)"
   ]
  },
  {
   "cell_type": "markdown",
   "metadata": {},
   "source": [
    "Text from Text Inputs"
   ]
  },
  {
   "cell_type": "code",
   "execution_count": 5,
   "metadata": {},
   "outputs": [],
   "source": [
    "model = genai.GenerativeModel('gemini-1.5-flash')"
   ]
  },
  {
   "cell_type": "code",
   "execution_count": 5,
   "metadata": {},
   "outputs": [
    {
     "data": {
      "text/markdown": [
       "> You can't directly convert calculated fields into measures in most data analysis tools (like Tableau, Power BI, etc *) * This is because calculated fields and measures serve different purposes:\n",
       "> \n",
       "> **Calculated Fields:**\n",
       "> \n",
       "> * **Based on existing data:** They use existing data from dimensions and measures to perform calculations *\n",
       "> * **Used for analysis:** They are primarily used for analysis and exploration, not aggregation *\n",
       "> * **Dynamically updated:** They update automatically when the underlying data changes *\n",
       "> \n",
       "> **Measures:**\n",
       "> \n",
       "> * **Aggregated values:** They represent aggregated values based on calculations or summaries of data *\n",
       "> * **Used for visualization:** They are used for creating visualizations and dashboards *\n",
       "> * **Static values:** They are generally static, though you might have calculated measures that dynamically update *\n",
       "> \n",
       "> **Here's why you can't directly convert a calculated field into a measure:**\n",
       "> \n",
       "> * **Different functions:** Calculated fields and measures use different functions and syntax in the data analysis tool *  A calculated field typically uses expressions and functions, while a measure is usually defined with an aggregation function (SUM, AVG, etc *) *\n",
       "> * **Data structure:** Calculated fields can be based on existing dimensions and measures, while a measure is an aggregated value that can be visualized or used for further calculations *\n",
       "> \n",
       "> **What you can do:**\n",
       "> \n",
       "> 1 * **Create a new measure:** Instead of converting a calculated field, you can create a new measure using the same formula or logic as your calculated field * This will create an aggregated value that you can use in visualizations *\n",
       "> 2 * **Copy the formula:** You can copy the formula from your calculated field and paste it into the measure creation window * Make sure you use the appropriate aggregation function (SUM, AVG, etc *) in the measure formula *\n",
       "> 3 * **Use the calculated field in the measure:** You can also use the calculated field directly within the measure definition * For example, if your calculated field is called \"Profit Margin\", you could define a measure called \"Total Profit Margin\" as `SUM(Profit Margin)` *\n",
       "> \n",
       "> **Example:**\n",
       "> \n",
       "> **Calculated field:** `Profit Margin` = `Sales` / `Cost`\n",
       "> \n",
       "> **Measure:** `Total Profit Margin` = `SUM(Sales)` / `SUM(Cost)`\n",
       "> \n",
       "> This new measure \"Total Profit Margin\" will calculate the average profit margin across all the data *\n",
       "> \n",
       "> Remember that the specific steps for creating measures and calculated fields may vary depending on the data analysis tool you are using *\n"
      ],
      "text/plain": [
       "<IPython.core.display.Markdown object>"
      ]
     },
     "execution_count": 5,
     "metadata": {},
     "output_type": "execute_result"
    }
   ],
   "source": [
    "response = model.generate_content(\"Can you convert calculated fields into measures?\")\n",
    "to_markdown(response.text)"
   ]
  },
  {
   "cell_type": "code",
   "execution_count": 6,
   "metadata": {},
   "outputs": [
    {
     "data": {
      "text/plain": [
       "[index: 0\n",
       "content {\n",
       "  parts {\n",
       "    text: \"You can\\'t directly convert calculated fields into measures in most data analysis tools (like Tableau, Power BI, etc.). This is because calculated fields and measures serve different purposes:\\n\\n**Calculated Fields:**\\n\\n* **Based on existing data:** They use existing data from dimensions and measures to perform calculations.\\n* **Used for analysis:** They are primarily used for analysis and exploration, not aggregation.\\n* **Dynamically updated:** They update automatically when the underlying data changes.\\n\\n**Measures:**\\n\\n* **Aggregated values:** They represent aggregated values based on calculations or summaries of data.\\n* **Used for visualization:** They are used for creating visualizations and dashboards.\\n* **Static values:** They are generally static, though you might have calculated measures that dynamically update.\\n\\n**Here\\'s why you can\\'t directly convert a calculated field into a measure:**\\n\\n* **Different functions:** Calculated fields and measures use different functions and syntax in the data analysis tool.  A calculated field typically uses expressions and functions, while a measure is usually defined with an aggregation function (SUM, AVG, etc.).\\n* **Data structure:** Calculated fields can be based on existing dimensions and measures, while a measure is an aggregated value that can be visualized or used for further calculations.\\n\\n**What you can do:**\\n\\n1. **Create a new measure:** Instead of converting a calculated field, you can create a new measure using the same formula or logic as your calculated field. This will create an aggregated value that you can use in visualizations.\\n2. **Copy the formula:** You can copy the formula from your calculated field and paste it into the measure creation window. Make sure you use the appropriate aggregation function (SUM, AVG, etc.) in the measure formula.\\n3. **Use the calculated field in the measure:** You can also use the calculated field directly within the measure definition. For example, if your calculated field is called \\\"Profit Margin\\\", you could define a measure called \\\"Total Profit Margin\\\" as `SUM(Profit Margin)`.\\n\\n**Example:**\\n\\n**Calculated field:** `Profit Margin` = `Sales` / `Cost`\\n\\n**Measure:** `Total Profit Margin` = `SUM(Sales)` / `SUM(Cost)`\\n\\nThis new measure \\\"Total Profit Margin\\\" will calculate the average profit margin across all the data.\\n\\nRemember that the specific steps for creating measures and calculated fields may vary depending on the data analysis tool you are using.\\n\"\n",
       "  }\n",
       "  role: \"model\"\n",
       "}\n",
       "finish_reason: STOP\n",
       "safety_ratings {\n",
       "  category: HARM_CATEGORY_SEXUALLY_EXPLICIT\n",
       "  probability: NEGLIGIBLE\n",
       "}\n",
       "safety_ratings {\n",
       "  category: HARM_CATEGORY_HATE_SPEECH\n",
       "  probability: NEGLIGIBLE\n",
       "}\n",
       "safety_ratings {\n",
       "  category: HARM_CATEGORY_HARASSMENT\n",
       "  probability: NEGLIGIBLE\n",
       "}\n",
       "safety_ratings {\n",
       "  category: HARM_CATEGORY_DANGEROUS_CONTENT\n",
       "  probability: NEGLIGIBLE\n",
       "}\n",
       "]"
      ]
     },
     "execution_count": 6,
     "metadata": {},
     "output_type": "execute_result"
    }
   ],
   "source": [
    "response.prompt_feedback\n",
    "response.candidates"
   ]
  },
  {
   "cell_type": "code",
   "execution_count": 7,
   "metadata": {},
   "outputs": [],
   "source": [
    "response = model.generate_content(\"What is the meaning of life?\", stream=True)"
   ]
  },
  {
   "cell_type": "code",
   "execution_count": 8,
   "metadata": {},
   "outputs": [
    {
     "name": "stdout",
     "output_type": "stream",
     "text": [
      "The\n",
      "____________________________________________________________________________________________________\n",
      " meaning of life is a profound and enduring question that has captivated philosophers, theologians,\n",
      "____________________________________________________________________________________________________\n",
      " and individuals for centuries. There is no single, universally accepted answer, and it\n",
      "____________________________________________________________________________________________________\n",
      "'s a question that each person must ultimately answer for themselves.\n",
      "\n",
      "Here are some perspectives on the meaning of life:\n",
      "\n",
      "**Philosophical Perspectives:**\n",
      "\n",
      "*\n",
      "____________________________________________________________________________________________________\n",
      " **Existentialism:** Emphasizes individual freedom and responsibility in creating meaning in a meaningless universe. We are born into a world without inherent purpose, and it'\n",
      "____________________________________________________________________________________________________\n",
      "s up to us to define our own values and create our own meaning.\n",
      "* **Nihilism:** Argues that life is inherently meaningless and without purpose. It can lead to a sense of apathy or despair, but can also inspire\n",
      "____________________________________________________________________________________________________\n",
      " a focus on personal fulfillment and creating meaning through individual experiences.\n",
      "* **Absurdism:**  Recognizes the inherent conflict between our desire for meaning and the meaninglessness of the universe. It encourages embracing this absurdity and finding joy in\n",
      "____________________________________________________________________________________________________\n",
      " the absurd nature of life.\n",
      "\n",
      "**Religious Perspectives:**\n",
      "\n",
      "* **Theism:** Many religions provide a framework for understanding the meaning of life through belief in a higher power. This power may have a specific purpose for humanity, or it may offer a moral code or set of values to guide our lives.\n",
      "* **\n",
      "____________________________________________________________________________________________________\n",
      "Spiritual Traditions:**  Various spiritual traditions offer practices and beliefs that focus on personal growth, connection to a greater reality, and finding meaning through self-discovery and enlightenment.\n",
      "\n",
      "**Other Perspectives:**\n",
      "\n",
      "* **Humanistic:**  Focuses on human potential and the pursuit of happiness, self-actualization, and contributing to\n",
      "____________________________________________________________________________________________________\n",
      " the well-being of others.\n",
      "* **Biological:**  Views life as a biological process driven by survival and reproduction.  Meaning is found in the continuity of life and the perpetuation of our genes.\n",
      "* **Personal Meaning:**  Individuals may find meaning in their personal relationships, passions, hobbies, or work\n",
      "____________________________________________________________________________________________________\n",
      ". It can come from achieving goals, overcoming challenges, and making a positive impact on the world.\n",
      "\n",
      "**Ultimately, the meaning of life is a deeply personal question. There is no right or wrong answer, and it's a journey of self-discovery that can continue throughout your life.**\n",
      "\n",
      "Rather than searching for\n",
      "____________________________________________________________________________________________________\n",
      " a definitive answer, consider these questions:\n",
      "\n",
      "* **What brings you joy?**\n",
      "* **What are your values?**\n",
      "* **What do you want to leave behind?**\n",
      "* **How do you want to live your life?**\n",
      "\n",
      "By reflecting on these questions, you can start to define your\n",
      "____________________________________________________________________________________________________\n",
      " own unique meaning in life. \n",
      "\n",
      "____________________________________________________________________________________________________\n"
     ]
    }
   ],
   "source": [
    "for chunk in response:\n",
    "    print(chunk.text)\n",
    "    print(\"_\"*100)"
   ]
  },
  {
   "cell_type": "code",
   "execution_count": 9,
   "metadata": {},
   "outputs": [],
   "source": [
    "response = model.generate_content(\"What is the meaning of life\", stream=True)"
   ]
  },
  {
   "cell_type": "code",
   "execution_count": 10,
   "metadata": {},
   "outputs": [
    {
     "data": {
      "text/plain": []
     },
     "execution_count": 10,
     "metadata": {},
     "output_type": "execute_result"
    }
   ],
   "source": [
    "response.prompt_feedback"
   ]
  },
  {
   "cell_type": "code",
   "execution_count": 11,
   "metadata": {},
   "outputs": [
    {
     "name": "stdout",
     "output_type": "stream",
     "text": [
      "IncompleteIterationError: Please let the response complete iteration before accessing the final accumulated\n",
      "attributes (or call `response.resolve()`)\n"
     ]
    }
   ],
   "source": [
    "try:\n",
    "    response.text\n",
    "except Exception as e:\n",
    "    print(f'{type(e) .__name__}: {e}')"
   ]
  },
  {
   "cell_type": "markdown",
   "metadata": {},
   "source": [
    "DAX Generator"
   ]
  },
  {
   "cell_type": "code",
   "execution_count": 6,
   "metadata": {},
   "outputs": [
    {
     "data": {
      "text/markdown": [
       "> ```dax\n",
       "> CALCULATE (\n",
       ">     DATEDIFF (\n",
       ">         YEAR,\n",
       ">         [Birthdate],\n",
       ">         TODAY()\n",
       ">     )\n",
       "> )\n",
       "> ```\n",
       "> \n",
       "> **Explanation:**\n",
       "> \n",
       "> * **CALCULATE:** This function is used to modify the context of a measure * In this case, we use it to calculate the age based on the [Birthdate] column *\n",
       "> * **DATEDIFF:** This function calculates the difference between two dates *\n",
       "> * **YEAR:** This parameter indicates that we want to calculate the difference in years *\n",
       "> * **[Birthdate]:** This refers to the column containing the birthdate information *\n",
       "> * **TODAY():** This function returns the current date *\n",
       "> \n",
       "> This DAX expression will calculate the number of years that have passed since the date in the [Birthdate] column *\n"
      ],
      "text/plain": [
       "<IPython.core.display.Markdown object>"
      ]
     },
     "execution_count": 6,
     "metadata": {},
     "output_type": "execute_result"
    }
   ],
   "source": [
    "expression = \"{DATEDIFF('year', [Birthdate], TODAY()) }\"\n",
    "\n",
    "response = model.generate_content(f\"Convert this tableau expression into dax expression. Give me the dax query as output {expression}\")\n",
    "to_markdown(response.text)"
   ]
  },
  {
   "cell_type": "markdown",
   "metadata": {},
   "source": [
    "Generate Text from Image Inputs"
   ]
  },
  {
   "cell_type": "code",
   "execution_count": 13,
   "metadata": {},
   "outputs": [],
   "source": [
    "model = genai.GenerativeModel('gemini-1.5-flash')"
   ]
  },
  {
   "cell_type": "code",
   "execution_count": 14,
   "metadata": {},
   "outputs": [],
   "source": [
    "from IPython.display import Image\n",
    "from IPython.core.display import HTML\n",
    "img = Image('image.jpg')"
   ]
  },
  {
   "cell_type": "code",
   "execution_count": 15,
   "metadata": {},
   "outputs": [
    {
     "data": {
      "text/markdown": [
       "> This image shows two glass containers filled with delicious meals * The left one has white rice, stir-fried carrots, peppers, and broccoli florets, topped with chicken * The right one has cooked white rice, broccoli florets, peppers, and carrots * The containers are on a gray surface and there are two wooden chopsticks next to them *  There is also a small bowl with sesame seeds near the top left of the frame * The image depicts a balanced, healthy meal, suitable for lunch or dinner *"
      ],
      "text/plain": [
       "<IPython.core.display.Markdown object>"
      ]
     },
     "execution_count": 15,
     "metadata": {},
     "output_type": "execute_result"
    }
   ],
   "source": [
    "response = model.generate_content(img)\n",
    "to_markdown(response.text)"
   ]
  },
  {
   "cell_type": "code",
   "execution_count": 16,
   "metadata": {},
   "outputs": [
    {
     "data": {
      "text/markdown": [
       "> ##"
      ],
      "text/plain": [
       "<IPython.core.display.Markdown object>"
      ]
     },
     "execution_count": 16,
     "metadata": {},
     "output_type": "execute_result"
    }
   ],
   "source": [
    "response = model.generate_content([\"Write a short and engaging blogpost based on the picture. It should include a description of the meal as well talk about my meal prepping journey.\", img], stream = True)\n",
    "response.resolve()\n",
    "to_markdown(response.text)"
   ]
  },
  {
   "cell_type": "markdown",
   "metadata": {},
   "source": [
    "Chat Conversations"
   ]
  },
  {
   "cell_type": "code",
   "execution_count": 17,
   "metadata": {},
   "outputs": [
    {
     "data": {
      "text/plain": [
       "ChatSession(\n",
       "    model=genai.GenerativeModel(\n",
       "        model_name='models/gemini-1.5-flash',\n",
       "        generation_config={},\n",
       "        safety_settings={},\n",
       "        tools=None,\n",
       "        system_instruction=None,\n",
       "    ),\n",
       "    history=[]\n",
       ")"
      ]
     },
     "execution_count": 17,
     "metadata": {},
     "output_type": "execute_result"
    }
   ],
   "source": [
    "model = genai.GenerativeModel('gemini-1.5-flash')\n",
    "chat = model.start_chat(history = [])\n",
    "chat"
   ]
  },
  {
   "cell_type": "code",
   "execution_count": 18,
   "metadata": {},
   "outputs": [
    {
     "data": {
      "text/markdown": [
       "> A computer is a magical box that lets you play games, watch videos, and talk to people far away! \n"
      ],
      "text/plain": [
       "<IPython.core.display.Markdown object>"
      ]
     },
     "execution_count": 18,
     "metadata": {},
     "output_type": "execute_result"
    }
   ],
   "source": [
    "response = chat.send_message(\"In one sentence explain what is a computer to a 5 year old\")\n",
    "to_markdown(response.text)"
   ]
  },
  {
   "cell_type": "code",
   "execution_count": 19,
   "metadata": {},
   "outputs": [
    {
     "data": {
      "text/plain": [
       "[parts {\n",
       "   text: \"In one sentence explain what is a computer to a 5 year old\"\n",
       " }\n",
       " role: \"user\",\n",
       " parts {\n",
       "   text: \"A computer is a magical box that lets you play games, watch videos, and talk to people far away! \\n\"\n",
       " }\n",
       " role: \"model\"]"
      ]
     },
     "execution_count": 19,
     "metadata": {},
     "output_type": "execute_result"
    }
   ],
   "source": [
    "chat.history"
   ]
  },
  {
   "cell_type": "code",
   "execution_count": 20,
   "metadata": {},
   "outputs": [
    {
     "name": "stdout",
     "output_type": "stream",
     "text": [
      "A\n",
      "________________________________________________________________________________\n",
      " computer is an electronic device that processes information using a set of instructions called software,\n",
      "________________________________________________________________________________\n",
      " allowing it to perform a wide range of tasks, from simple calculations to complex simulations\n",
      "________________________________________________________________________________\n",
      " and artificial intelligence, all powered by a central processing unit (CPU) and a network of interconnected components. \n",
      "\n",
      "________________________________________________________________________________\n"
     ]
    }
   ],
   "source": [
    "response = chat.send_message(\"Okkay, how about a more detailed explanation toa high schooler\", stream = True)\n",
    "\n",
    "for chunk in response:\n",
    "    print(chunk.text)\n",
    "    print('_'*80)"
   ]
  },
  {
   "cell_type": "code",
   "execution_count": 21,
   "metadata": {},
   "outputs": [
    {
     "data": {
      "text/markdown": [
       "> **user**: In one sentence explain what is a computer to a 5 year old"
      ],
      "text/plain": [
       "<IPython.core.display.Markdown object>"
      ]
     },
     "metadata": {},
     "output_type": "display_data"
    },
    {
     "data": {
      "text/markdown": [
       "> **model**: A computer is a magical box that lets you play games, watch videos, and talk to people far away! \n"
      ],
      "text/plain": [
       "<IPython.core.display.Markdown object>"
      ]
     },
     "metadata": {},
     "output_type": "display_data"
    },
    {
     "data": {
      "text/markdown": [
       "> **user**: Okkay, how about a more detailed explanation toa high schooler"
      ],
      "text/plain": [
       "<IPython.core.display.Markdown object>"
      ]
     },
     "metadata": {},
     "output_type": "display_data"
    },
    {
     "data": {
      "text/markdown": [
       "> **model**: A computer is an electronic device that processes information using a set of instructions called software, allowing it to perform a wide range of tasks, from simple calculations to complex simulations and artificial intelligence, all powered by a central processing unit (CPU) and a network of interconnected components * \n"
      ],
      "text/plain": [
       "<IPython.core.display.Markdown object>"
      ]
     },
     "metadata": {},
     "output_type": "display_data"
    }
   ],
   "source": [
    "for message in   chat.history:\n",
    "    display(to_markdown(f'**{message.role}**: {message.parts[0].text}'))"
   ]
  },
  {
   "cell_type": "markdown",
   "metadata": {},
   "source": [
    "Token Counting"
   ]
  },
  {
   "cell_type": "code",
   "execution_count": 22,
   "metadata": {},
   "outputs": [
    {
     "data": {
      "text/plain": [
       "total_tokens: 111"
      ]
     },
     "execution_count": 22,
     "metadata": {},
     "output_type": "execute_result"
    }
   ],
   "source": [
    "model.count_tokens(chat.history)"
   ]
  },
  {
   "cell_type": "markdown",
   "metadata": {},
   "source": [
    "Multi-Turn Conversations"
   ]
  },
  {
   "cell_type": "code",
   "execution_count": 23,
   "metadata": {},
   "outputs": [
    {
     "data": {
      "text/markdown": [
       "> Imagine a computer like a really smart toy box! It has lots of different parts, but they all work together to do amazing things *\n",
       "> \n",
       "> * **Brain:** The computer's brain is called the CPU * It's like the smartest part of your brain, figuring out what to do and making decisions *\n",
       "> * **Memory:** The computer has a memory, like your mind * It remembers things you tell it, like your favorite games or what you're working on *\n",
       "> * **Storage:** The computer has a storage space, like a giant drawer * It keeps all your stuff safe, like your pictures, videos, and games *\n",
       "> * **Input:** You give the computer instructions using things like the keyboard, mouse, or touchscreen * That's like telling the computer what you want it to do *\n",
       "> * **Output:** The computer shows you what it's doing on the screen, or plays sounds through the speakers * It's like the computer telling you what it's doing *\n",
       "> \n",
       "> All these parts work together to let you play games, watch videos, and learn new things! It's like having a magic box that can do almost anything! \n"
      ],
      "text/plain": [
       "<IPython.core.display.Markdown object>"
      ]
     },
     "execution_count": 23,
     "metadata": {},
     "output_type": "execute_result"
    }
   ],
   "source": [
    "model = genai.GenerativeModel('gemini-1.5-flash')\n",
    "\n",
    "message = [\n",
    "    {\n",
    "        'role': 'user',\n",
    "        'parts': [\"Breifly explain how a computer works to a child.\"]\n",
    "    }\n",
    "]\n",
    "\n",
    "response = model.generate_content(message)\n",
    "to_markdown(response.text)"
   ]
  },
  {
   "cell_type": "code",
   "execution_count": 24,
   "metadata": {},
   "outputs": [
    {
     "data": {
      "text/markdown": [
       "> Imagine a computer like a really smart friend who can follow instructions really, really fast *  It has a brain called the **CPU** (Central Processing Unit) which is like the main part of your brain, where you think and process information * It also has a memory called **RAM** (Random Access Memory) that works like your short-term memory, where you store things you're using right now *  And it has a hard drive, which is like your long-term memory, where you keep all your important stuff *\n",
       "> \n",
       "> **Here's how it works:**\n",
       "> \n",
       "> 1 * **You give the computer instructions:** This could be clicking a mouse, typing on a keyboard, or even speaking into a microphone *\n",
       "> 2 * **The instructions are translated into a code the computer understands:** It's like turning your words into a language a robot can understand *\n",
       "> 3 * **The CPU follows those instructions:** It processes the information, makes calculations, and does whatever you asked it to do *\n",
       "> 4 * **The results are displayed on the screen or stored in memory:** You can see what the computer did, like opening a program or showing you a picture *\n",
       "> \n",
       "> **But there's more!**\n",
       "> \n",
       "> * The computer also has a **graphics card** which helps it show pictures and videos, just like your eyes let you see things *\n",
       "> * It has a **sound card** to play music and sounds, just like your ears let you hear things *\n",
       "> * And it has a **network card** to connect to the internet and share information with other computers, like talking to your friends over the phone *\n",
       "> \n",
       "> All these parts work together to make the computer do amazing things! It's like a team of experts working together to help you learn, play games, and create cool stuff *\n",
       "> \n",
       "> Does that make sense? Let me know if you have any questions!\n"
      ],
      "text/plain": [
       "<IPython.core.display.Markdown object>"
      ]
     },
     "execution_count": 24,
     "metadata": {},
     "output_type": "execute_result"
    }
   ],
   "source": [
    "message.append({'role': 'model',\n",
    "                'parts': [\"Okkay, how about a more detailed explanation to a high school student?\"]})\n",
    "\n",
    "response = model.generate_content(message)\n",
    "to_markdown(response.text)"
   ]
  },
  {
   "cell_type": "code",
   "execution_count": 25,
   "metadata": {},
   "outputs": [
    {
     "data": {
      "text/markdown": [
       "> It looks like you are asking me to provide increasing levels of complexity for the explanation of how a computer works * I'm ready to go deeper! Let's explore how a computer works in a more advanced way: \n",
       "> \n",
       "> **For a high school student:**\n",
       "> \n",
       "> Imagine a computer as a really smart and fast calculator that can do lots of things besides just numbers * Here's a simplified breakdown:\n",
       "> \n",
       "> **1 * Hardware:** This is the physical part of the computer you can touch:\n",
       "> \n",
       "> * **Central Processing Unit (CPU):**  Think of this as the brain of the computer * It takes instructions, processes them, and tells other parts what to do * It's like a super-fast calculator that can do many things at once *\n",
       "> * **Random Access Memory (RAM):** This is like the computer's short-term memory * It holds the instructions and data the CPU is currently working with * It's fast but temporary *  Imagine it as a scratchpad where you quickly write down numbers you need for a calculation *\n",
       "> * **Hard Drive:** This is the long-term memory * It stores all your files, programs, and operating system * It's like a big library where you keep all your books *\n",
       "> * **Input/Output Devices:** These are how you interact with the computer * The keyboard and mouse let you give it commands, and the monitor and speakers let it show you results * \n",
       "> \n",
       "> **2 * Software:** This is the set of instructions that tell the hardware what to do *\n",
       "> \n",
       "> * **Operating System (OS):** Think of this as the computer's manager * It controls the hardware and allows other programs to run * It's like the rules and regulations of a city *\n",
       "> * **Applications:** These are the programs you use, like word processors, games, and web browsers * They perform specific tasks *\n",
       "> \n",
       "> **3 * How it all works:**\n",
       "> \n",
       "> * You type something on the keyboard, which sends signals to the CPU *\n",
       "> * The CPU uses RAM to hold the information temporarily and processes it based on instructions from the operating system and the application you're using *\n",
       "> * The CPU sends the result back to RAM, which is then displayed on the monitor or sent to the speakers *\n",
       "> * The information you created can be saved permanently on the hard drive *\n",
       "> \n",
       "> **Think of it like a recipe:**\n",
       "> \n",
       "> * The hardware is the kitchen, the ingredients, and the tools *\n",
       "> * The software is the recipe itself, telling you what to do with the ingredients *\n",
       "> * The CPU is the chef, following the recipe and using the tools to prepare the meal *\n",
       "> \n",
       "> This is a simplified view, but it gives you a basic understanding of the essential components and how they work together to make a computer function * \n",
       "> \n",
       "> **To dive deeper:**\n",
       "> \n",
       "> * **Binary Code:** Computers actually understand everything in a series of 0s and 1s * This is called binary code, and it's the language that the CPU uses to process information *\n",
       "> * **Networking:** Computers can talk to each other over networks, sharing information and resources *\n",
       "> * **Programming:** You can write your own instructions for the computer to follow by learning a programming language *\n",
       "> \n",
       "> The world of computers is vast and fascinating * Keep exploring, and you'll learn even more about how they work!\n"
      ],
      "text/plain": [
       "<IPython.core.display.Markdown object>"
      ]
     },
     "execution_count": 25,
     "metadata": {},
     "output_type": "execute_result"
    }
   ],
   "source": [
    "message.append({'role': 'model',\n",
    "                'parts': [\"Okkay, how will you explain it to someone who is an expert at the subject?\"]})\n",
    "\n",
    "response = model.generate_content(message)\n",
    "to_markdown(response.text)"
   ]
  },
  {
   "cell_type": "code",
   "execution_count": null,
   "metadata": {},
   "outputs": [],
   "source": []
  }
 ],
 "metadata": {
  "kernelspec": {
   "display_name": ".venv",
   "language": "python",
   "name": "python3"
  },
  "language_info": {
   "codemirror_mode": {
    "name": "ipython",
    "version": 3
   },
   "file_extension": ".py",
   "mimetype": "text/x-python",
   "name": "python",
   "nbconvert_exporter": "python",
   "pygments_lexer": "ipython3",
   "version": "3.11.3"
  }
 },
 "nbformat": 4,
 "nbformat_minor": 2
}
